{
 "cells": [
  {
   "cell_type": "code",
   "execution_count": 19,
   "metadata": {},
   "outputs": [
    {
     "name": "stdout",
     "output_type": "stream",
     "text": [
      "{'Everest': 8848, 'K2': 8611, 'Makalu': 8485, 'Lhost': 8516, 'Annapurna': 8091}\n",
      "____________________\n",
      "Names of Mountains :\n",
      "--------------------\n",
      "Everest\n",
      "K2\n",
      "Makalu\n",
      "Lhost\n",
      "Annapurna\n",
      " ______________________\n",
      "|Elevations in Meters :|\n",
      " ----------------------\n",
      "Elevation in Meters is : 8848\n",
      "Elevation in Meters is : 8611\n",
      "Elevation in Meters is : 8485\n",
      "Elevation in Meters is : 8516\n",
      "Elevation in Meters is : 8091\n",
      " _____________________\n",
      "|Elevations in Feets :|\n",
      " ---------------------\n",
      "Elevation in Meters is : 29021.440000\n",
      "Elevation in Meters is : 28244.080000\n",
      "Elevation in Meters is : 27830.800000\n",
      "Elevation in Meters is : 27932.480000\n",
      "Elevation in Meters is : 26538.480000\n",
      " _______________________________________\n",
      "|Mountains's name and their Elevations :|\n",
      " ---------------------------------------\n",
      "Everest is 8848 meters tall, or 29021.440000 feets.\n",
      "K2 is 8611 meters tall, or 28244.080000 feets.\n",
      "Makalu is 8485 meters tall, or 27830.800000 feets.\n",
      "Lhost is 8516 meters tall, or 27932.480000 feets.\n",
      "Annapurna is 8091 meters tall, or 26538.480000 feets.\n"
     ]
    }
   ],
   "source": [
    "########  Mountain Heights 3 #########\n",
    "\n",
    "def fromMetersToFeets(dictionary):\n",
    "    listOfFeets = []\n",
    "    for key, value in dictionary.items():\n",
    "        listOfFeets.append(value * 3.28)\n",
    "    return listOfFeets\n",
    "\n",
    "def dicExtend(dictionary):\n",
    "    for key in dictionary.keys():\n",
    "        dictionary[key] = [dictionary[key], dictionary[key]*3.28] \n",
    "    return dictionary\n",
    "\n",
    "def showKeys(dictionary):\n",
    "    print(\"____________________\")\n",
    "    print(\"Names of Mountains :\")\n",
    "    print(\"--------------------\")\n",
    "    for key in dictionary.keys():\n",
    "        print(\"%s\" %key)\n",
    "\n",
    "\n",
    "def showElevationInMeters(dictionary):\n",
    "    print(\" ______________________\")\n",
    "    print(\"|Elevations in Meters :|\")\n",
    "    print(\" ----------------------\")\n",
    "    for elevation in dictionary.values():\n",
    "        print(\"Elevation in Meters is : %d\" %elevation[0])\n",
    "\n",
    "def showElevationInFeet(dictionary):\n",
    "    print(\" _____________________\")\n",
    "    print(\"|Elevations in Feets :|\")\n",
    "    print(\" ---------------------\")\n",
    "    for elevation in dictionary.values():\n",
    "        print(\"Elevation in Meters is : %f\" %elevation[-1])\n",
    "\n",
    "def showAllMountainTalls(dictionary):\n",
    "    print(\" _______________________________________\")\n",
    "    print(\"|Mountains's name and their Elevations :|\")\n",
    "    print(\" ---------------------------------------\")\n",
    "    for name, values in dictionary.items():\n",
    "        print(\"%s is %d meters tall, or %f feets.\" %(name, values[0], values[1]))\n",
    "\n",
    "mountainsElevation  = {'Everest' : 8848, 'K2': 8611, 'Makalu': 8485, 'Lhost':8516, 'Annapurna': 8091}\n",
    "print(mountainsElevation)\n",
    "\n",
    "mountainsElevation2 =  dicExtend(mountainsElevation.copy())\n",
    "showKeys(mountainsElevation2)\n",
    "showElevationInMeters(mountainsElevation2)\n",
    "showElevationInFeet(mountainsElevation2)\n",
    "showAllMountainTalls(mountainsElevation2)\n",
    "#print(fromMetersToFeets(mountainsElevation))"
   ]
  }
 ],
 "metadata": {
  "interpreter": {
   "hash": "8aa36df23babdad97e5a68de20b57fd862eeee2c5b7f569d031763a57bf5f36d"
  },
  "kernelspec": {
   "display_name": "Python 3.9.7 64-bit ('base': conda)",
   "language": "python",
   "name": "python3"
  },
  "language_info": {
   "codemirror_mode": {
    "name": "ipython",
    "version": 3
   },
   "file_extension": ".py",
   "mimetype": "text/x-python",
   "name": "python",
   "nbconvert_exporter": "python",
   "pygments_lexer": "ipython3",
   "version": "3.9.7"
  },
  "orig_nbformat": 4
 },
 "nbformat": 4,
 "nbformat_minor": 2
}
